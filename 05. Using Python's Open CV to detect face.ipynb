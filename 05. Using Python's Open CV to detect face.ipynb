{
 "cells": [
  {
   "cell_type": "code",
   "execution_count": 12,
   "metadata": {},
   "outputs": [
    {
     "name": "stdout",
     "output_type": "stream",
     "text": [
      "Collecting tesserocr\n",
      "  Downloading https://files.pythonhosted.org/packages/92/2d/05a7f8387e93c192919b508e4f4936f232bd3d2ca388b9130ae538a9f9ad/tesserocr-2.4.0.tar.gz (56kB)\n",
      "Building wheels for collected packages: tesserocr\n",
      "  Building wheel for tesserocr (setup.py): started\n",
      "  Building wheel for tesserocr (setup.py): finished with status 'error'\n",
      "  Complete output from command c:\\users\\user\\anaconda3\\python.exe -u -c \"import setuptools, tokenize;__file__='C:\\\\Users\\\\user\\\\AppData\\\\Local\\\\Temp\\\\pip-install-77fdz039\\\\tesserocr\\\\setup.py';f=getattr(tokenize, 'open', open)(__file__);code=f.read().replace('\\r\\n', '\\n');f.close();exec(compile(code, __file__, 'exec'))\" bdist_wheel -d C:\\Users\\user\\AppData\\Local\\Temp\\pip-wheel-y7wa6r8e --python-tag cp36:\n",
      "  Failed to extract tesseract version from executable: [WinError 2] The system cannot find the file specified\n",
      "  Supporting tesseract v3.04.00\n",
      "  Building with configs: {'libraries': ['tesseract', 'lept'], 'cython_compile_time_env': {'TESSERACT_VERSION': 50593792}}\n",
      "  c:\\users\\user\\anaconda3\\lib\\distutils\\dist.py:261: UserWarning: Unknown distribution option: 'long_description_content_type'\n",
      "    warnings.warn(msg)\n",
      "  running bdist_wheel\n",
      "  running build\n",
      "  running build_ext\n",
      "  building 'tesserocr' extension\n",
      "  creating build\n",
      "  creating build\\temp.win-amd64-3.6\n",
      "  creating build\\temp.win-amd64-3.6\\Release\n",
      "  C:\\Program Files (x86)\\Microsoft Visual Studio 14.0\\VC\\BIN\\x86_amd64\\cl.exe /c /nologo /Ox /W3 /GL /DNDEBUG /MD -Ic:\\users\\user\\anaconda3\\include -Ic:\\users\\user\\anaconda3\\include \"-IC:\\Program Files (x86)\\Microsoft Visual Studio 14.0\\VC\\INCLUDE\" \"-IC:\\Program Files (x86)\\Windows Kits\\10\\include\\10.0.10240.0\\ucrt\" \"-IC:\\Program Files (x86)\\Windows Kits\\8.1\\include\\shared\" \"-IC:\\Program Files (x86)\\Windows Kits\\8.1\\include\\um\" \"-IC:\\Program Files (x86)\\Windows Kits\\8.1\\include\\winrt\" /EHsc /Tptesserocr.cpp /Fobuild\\temp.win-amd64-3.6\\Release\\tesserocr.obj\n",
      "  tesserocr.cpp\n",
      "  tesserocr.cpp(561): fatal error C1083: Cannot open include file: 'leptonica/allheaders.h': No such file or directory\n",
      "  error: command 'C:\\\\Program Files (x86)\\\\Microsoft Visual Studio 14.0\\\\VC\\\\BIN\\\\x86_amd64\\\\cl.exe' failed with exit status 2\n",
      "  \n",
      "  ----------------------------------------\n",
      "  Running setup.py clean for tesserocr\n",
      "Failed to build tesserocr\n",
      "Installing collected packages: tesserocr\n",
      "  Running setup.py install for tesserocr: started\n",
      "    Running setup.py install for tesserocr: finished with status 'error'\n",
      "    Complete output from command c:\\users\\user\\anaconda3\\python.exe -u -c \"import setuptools, tokenize;__file__='C:\\\\Users\\\\user\\\\AppData\\\\Local\\\\Temp\\\\pip-install-77fdz039\\\\tesserocr\\\\setup.py';f=getattr(tokenize, 'open', open)(__file__);code=f.read().replace('\\r\\n', '\\n');f.close();exec(compile(code, __file__, 'exec'))\" install --record C:\\Users\\user\\AppData\\Local\\Temp\\pip-record-qmff1l6k\\install-record.txt --single-version-externally-managed --compile:\n",
      "    Failed to extract tesseract version from executable: [WinError 2] The system cannot find the file specified\n",
      "    Supporting tesseract v3.04.00\n",
      "    Building with configs: {'libraries': ['tesseract', 'lept'], 'cython_compile_time_env': {'TESSERACT_VERSION': 50593792}}\n",
      "    c:\\users\\user\\anaconda3\\lib\\distutils\\dist.py:261: UserWarning: Unknown distribution option: 'long_description_content_type'\n",
      "      warnings.warn(msg)\n",
      "    running install\n",
      "    running build\n",
      "    running build_ext\n",
      "    building 'tesserocr' extension\n",
      "    creating build\n",
      "    creating build\\temp.win-amd64-3.6\n",
      "    creating build\\temp.win-amd64-3.6\\Release\n",
      "    C:\\Program Files (x86)\\Microsoft Visual Studio 14.0\\VC\\BIN\\x86_amd64\\cl.exe /c /nologo /Ox /W3 /GL /DNDEBUG /MD -Ic:\\users\\user\\anaconda3\\include -Ic:\\users\\user\\anaconda3\\include \"-IC:\\Program Files (x86)\\Microsoft Visual Studio 14.0\\VC\\INCLUDE\" \"-IC:\\Program Files (x86)\\Windows Kits\\10\\include\\10.0.10240.0\\ucrt\" \"-IC:\\Program Files (x86)\\Windows Kits\\8.1\\include\\shared\" \"-IC:\\Program Files (x86)\\Windows Kits\\8.1\\include\\um\" \"-IC:\\Program Files (x86)\\Windows Kits\\8.1\\include\\winrt\" /EHsc /Tptesserocr.cpp /Fobuild\\temp.win-amd64-3.6\\Release\\tesserocr.obj\n",
      "    tesserocr.cpp\n",
      "    tesserocr.cpp(561): fatal error C1083: Cannot open include file: 'leptonica/allheaders.h': No such file or directory\n",
      "    error: command 'C:\\\\Program Files (x86)\\\\Microsoft Visual Studio 14.0\\\\VC\\\\BIN\\\\x86_amd64\\\\cl.exe' failed with exit status 2\n",
      "    \n",
      "    ----------------------------------------\n"
     ]
    },
    {
     "name": "stderr",
     "output_type": "stream",
     "text": [
      "  Failed building wheel for tesserocr\n",
      "Command \"c:\\users\\user\\anaconda3\\python.exe -u -c \"import setuptools, tokenize;__file__='C:\\\\Users\\\\user\\\\AppData\\\\Local\\\\Temp\\\\pip-install-77fdz039\\\\tesserocr\\\\setup.py';f=getattr(tokenize, 'open', open)(__file__);code=f.read().replace('\\r\\n', '\\n');f.close();exec(compile(code, __file__, 'exec'))\" install --record C:\\Users\\user\\AppData\\Local\\Temp\\pip-record-qmff1l6k\\install-record.txt --single-version-externally-managed --compile\" failed with error code 1 in C:\\Users\\user\\AppData\\Local\\Temp\\pip-install-77fdz039\\tesserocr\\\n"
     ]
    }
   ],
   "source": [
    "#import sys\n",
    "!pip install tesserocr"
   ]
  },
  {
   "cell_type": "code",
   "execution_count": 2,
   "metadata": {},
   "outputs": [
    {
     "name": "stdout",
     "output_type": "stream",
     "text": [
      "Collecting pip\n",
      "  Using cached https://files.pythonhosted.org/packages/d8/f3/413bab4ff08e1fc4828dfc59996d721917df8e8583ea85385d51125dceff/pip-19.0.3-py2.py3-none-any.whl\n",
      "Installing collected packages: pip\n",
      "  Found existing installation: pip 9.0.1\n",
      "    Uninstalling pip-9.0.1:\n",
      "      Successfully uninstalled pip-9.0.1\n"
     ]
    },
    {
     "name": "stderr",
     "output_type": "stream",
     "text": [
      "Exception:\n",
      "Traceback (most recent call last):\n",
      "  File \"C:\\Users\\user\\Anaconda3\\lib\\shutil.py\", line 387, in _rmtree_unsafe\n",
      "    os.unlink(fullname)\n",
      "PermissionError: [WinError 5] Access is denied: 'C:\\\\Users\\\\user\\\\AppData\\\\Local\\\\Temp\\\\pip-cg4nlldd-uninstall\\\\users\\\\user\\\\anaconda3\\\\scripts\\\\pip.exe'\n",
      "\n",
      "During handling of the above exception, another exception occurred:\n",
      "\n",
      "Traceback (most recent call last):\n",
      "  File \"C:\\Users\\user\\Anaconda3\\lib\\site-packages\\pip\\basecommand.py\", line 215, in main\n",
      "  File \"C:\\Users\\user\\Anaconda3\\lib\\site-packages\\pip\\commands\\install.py\", line 342, in run\n",
      "  File \"C:\\Users\\user\\Anaconda3\\lib\\site-packages\\pip\\req\\req_set.py\", line 795, in install\n",
      "  File \"C:\\Users\\user\\Anaconda3\\lib\\site-packages\\pip\\req\\req_install.py\", line 767, in commit_uninstall\n",
      "  File \"C:\\Users\\user\\Anaconda3\\lib\\site-packages\\pip\\req\\req_uninstall.py\", line 142, in commit\n",
      "  File \"C:\\Users\\user\\Anaconda3\\lib\\site-packages\\pip\\_vendor\\retrying.py\", line 49, in wrapped_f\n",
      "    return Retrying(*dargs, **dkw).call(f, *args, **kw)\n",
      "  File \"C:\\Users\\user\\Anaconda3\\lib\\site-packages\\pip\\_vendor\\retrying.py\", line 212, in call\n",
      "    raise attempt.get()\n",
      "  File \"C:\\Users\\user\\Anaconda3\\lib\\site-packages\\pip\\_vendor\\retrying.py\", line 247, in get\n",
      "    six.reraise(self.value[0], self.value[1], self.value[2])\n",
      "  File \"C:\\Users\\user\\Anaconda3\\lib\\site-packages\\pip\\_vendor\\six.py\", line 686, in reraise\n",
      "  File \"C:\\Users\\user\\Anaconda3\\lib\\site-packages\\pip\\_vendor\\retrying.py\", line 200, in call\n",
      "    attempt = Attempt(fn(*args, **kwargs), attempt_number, False)\n",
      "  File \"C:\\Users\\user\\Anaconda3\\lib\\site-packages\\pip\\utils\\__init__.py\", line 102, in rmtree\n",
      "  File \"C:\\Users\\user\\Anaconda3\\lib\\shutil.py\", line 494, in rmtree\n",
      "    return _rmtree_unsafe(path, onerror)\n",
      "  File \"C:\\Users\\user\\Anaconda3\\lib\\shutil.py\", line 384, in _rmtree_unsafe\n",
      "    _rmtree_unsafe(fullname, onerror)\n",
      "  File \"C:\\Users\\user\\Anaconda3\\lib\\shutil.py\", line 384, in _rmtree_unsafe\n",
      "    _rmtree_unsafe(fullname, onerror)\n",
      "  File \"C:\\Users\\user\\Anaconda3\\lib\\shutil.py\", line 384, in _rmtree_unsafe\n",
      "    _rmtree_unsafe(fullname, onerror)\n",
      "  File \"C:\\Users\\user\\Anaconda3\\lib\\shutil.py\", line 389, in _rmtree_unsafe\n",
      "    onerror(os.unlink, fullname, sys.exc_info())\n",
      "  File \"C:\\Users\\user\\Anaconda3\\lib\\site-packages\\pip\\utils\\__init__.py\", line 114, in rmtree_errorhandler\n",
      "PermissionError: [WinError 5] Access is denied: 'C:\\\\Users\\\\user\\\\AppData\\\\Local\\\\Temp\\\\pip-cg4nlldd-uninstall\\\\users\\\\user\\\\anaconda3\\\\scripts\\\\pip.exe'\n"
     ]
    }
   ],
   "source": [
    "!pip install --upgrade pip"
   ]
  },
  {
   "cell_type": "code",
   "execution_count": 3,
   "metadata": {},
   "outputs": [
    {
     "name": "stdout",
     "output_type": "stream",
     "text": [
      "Collecting tweepy\n",
      "  Using cached https://files.pythonhosted.org/packages/d5/5f/daac4b4e9b30d7d2a6fdd16a880ff79f27918fe388e4dfc1983dec3a9876/tweepy-3.7.0-py2.py3-none-any.whl\n",
      "Collecting requests-oauthlib>=0.7.0 (from tweepy)\n",
      "  Using cached https://files.pythonhosted.org/packages/c2/e2/9fd03d55ffb70fe51f587f20bcf407a6927eb121de86928b34d162f0b1ac/requests_oauthlib-1.2.0-py2.py3-none-any.whl\n",
      "Requirement already satisfied: PySocks>=1.5.7 in c:\\users\\user\\anaconda3\\lib\\site-packages (from tweepy) (1.6.7)\n",
      "Requirement already satisfied: six>=1.10.0 in c:\\users\\user\\anaconda3\\lib\\site-packages (from tweepy) (1.11.0)\n",
      "Requirement already satisfied: requests>=2.11.1 in c:\\users\\user\\anaconda3\\lib\\site-packages (from tweepy) (2.18.4)\n",
      "Collecting oauthlib>=3.0.0 (from requests-oauthlib>=0.7.0->tweepy)\n",
      "  Using cached https://files.pythonhosted.org/packages/16/95/699466b05b72b94a41f662dc9edf87fda4289e3602ecd42d27fcaddf7b56/oauthlib-3.0.1-py2.py3-none-any.whl\n",
      "Requirement already satisfied: chardet<3.1.0,>=3.0.2 in c:\\users\\user\\anaconda3\\lib\\site-packages (from requests>=2.11.1->tweepy) (3.0.4)\n",
      "Requirement already satisfied: idna<2.7,>=2.5 in c:\\users\\user\\anaconda3\\lib\\site-packages (from requests>=2.11.1->tweepy) (2.6)\n",
      "Requirement already satisfied: urllib3<1.23,>=1.21.1 in c:\\users\\user\\anaconda3\\lib\\site-packages (from requests>=2.11.1->tweepy) (1.22)\n",
      "Requirement already satisfied: certifi>=2017.4.17 in c:\\users\\user\\anaconda3\\lib\\site-packages (from requests>=2.11.1->tweepy) (2018.1.18)\n",
      "Installing collected packages: oauthlib, requests-oauthlib, tweepy\n",
      "Successfully installed oauthlib-3.0.1 requests-oauthlib-1.2.0 tweepy-3.7.0\n"
     ]
    }
   ],
   "source": [
    "!pip install tweepy"
   ]
  },
  {
   "cell_type": "code",
   "execution_count": 4,
   "metadata": {},
   "outputs": [
    {
     "name": "stdout",
     "output_type": "stream",
     "text": [
      "Collecting opencv-contrib-python\n",
      "  Using cached https://files.pythonhosted.org/packages/28/ef/af0d5ebec5eaf69d19caf1be2c82c99b21d0a3314152dae251329d5c3f3e/opencv_contrib_python-4.0.0.21-cp36-cp36m-win_amd64.whl\n",
      "Requirement already satisfied: numpy>=1.11.3 in c:\\users\\user\\anaconda3\\lib\\site-packages (from opencv-contrib-python) (1.14.0)\n",
      "Installing collected packages: opencv-contrib-python\n",
      "Successfully installed opencv-contrib-python-4.0.0.21\n"
     ]
    }
   ],
   "source": [
    "!pip install opencv-contrib-python"
   ]
  },
  {
   "cell_type": "code",
   "execution_count": 5,
   "metadata": {},
   "outputs": [
    {
     "name": "stdout",
     "output_type": "stream",
     "text": [
      "Collecting xmlutils\n",
      "Installing collected packages: xmlutils\n",
      "Successfully installed xmlutils-1.4\n"
     ]
    }
   ],
   "source": [
    "!pip install xmlutils"
   ]
  },
  {
   "cell_type": "code",
   "execution_count": 6,
   "metadata": {},
   "outputs": [
    {
     "name": "stdout",
     "output_type": "stream",
     "text": [
      "Requirement already satisfied: pillow in c:\\users\\user\\anaconda3\\lib\\site-packages (5.0.0)\n"
     ]
    }
   ],
   "source": [
    "!pip install pillow"
   ]
  },
  {
   "cell_type": "code",
   "execution_count": 7,
   "metadata": {},
   "outputs": [
    {
     "name": "stdout",
     "output_type": "stream",
     "text": [
      "Collecting keras\n",
      "  Downloading https://files.pythonhosted.org/packages/5e/10/aa32dad071ce52b5502266b5c659451cfd6ffcbf14e6c8c4f16c0ff5aaab/Keras-2.2.4-py2.py3-none-any.whl (312kB)\n",
      "Collecting keras-applications>=1.0.6 (from keras)\n",
      "  Downloading https://files.pythonhosted.org/packages/90/85/64c82949765cfb246bbdaf5aca2d55f400f792655927a017710a78445def/Keras_Applications-1.0.7-py2.py3-none-any.whl (51kB)\n",
      "Requirement already satisfied: pyyaml in c:\\users\\user\\anaconda3\\lib\\site-packages (from keras) (3.12)\n",
      "Requirement already satisfied: h5py in c:\\users\\user\\anaconda3\\lib\\site-packages (from keras) (2.7.1)\n",
      "Collecting keras-preprocessing>=1.0.5 (from keras)\n",
      "  Downloading https://files.pythonhosted.org/packages/c0/bf/0315ef6a9fd3fc2346e85b0ff1f5f83ca17073f2c31ac719ab2e4da0d4a3/Keras_Preprocessing-1.0.9-py2.py3-none-any.whl (59kB)\n",
      "Requirement already satisfied: scipy>=0.14 in c:\\users\\user\\anaconda3\\lib\\site-packages (from keras) (1.0.0)\n",
      "Requirement already satisfied: six>=1.9.0 in c:\\users\\user\\anaconda3\\lib\\site-packages (from keras) (1.11.0)\n",
      "Requirement already satisfied: numpy>=1.9.1 in c:\\users\\user\\anaconda3\\lib\\site-packages (from keras) (1.14.0)\n",
      "Installing collected packages: keras-applications, keras-preprocessing, keras\n",
      "Successfully installed keras-2.2.4 keras-applications-1.0.7 keras-preprocessing-1.0.9\n"
     ]
    }
   ],
   "source": [
    "!pip install keras"
   ]
  },
  {
   "cell_type": "code",
   "execution_count": 8,
   "metadata": {},
   "outputs": [
    {
     "name": "stdout",
     "output_type": "stream",
     "text": [
      "Collecting bs4\n",
      "  Downloading https://files.pythonhosted.org/packages/10/ed/7e8b97591f6f456174139ec089c769f89a94a1a4025fe967691de971f314/bs4-0.0.1.tar.gz\n",
      "Requirement already satisfied: beautifulsoup4 in c:\\users\\user\\anaconda3\\lib\\site-packages (from bs4) (4.6.0)\n",
      "Building wheels for collected packages: bs4\n",
      "  Building wheel for bs4 (setup.py): started\n",
      "  Building wheel for bs4 (setup.py): finished with status 'done'\n",
      "  Stored in directory: C:\\Users\\user\\AppData\\Local\\pip\\Cache\\wheels\\a0\\b0\\b2\\4f80b9456b87abedbc0bf2d52235414c3467d8889be38dd472\n",
      "Successfully built bs4\n",
      "Installing collected packages: bs4\n",
      "Successfully installed bs4-0.0.1\n"
     ]
    }
   ],
   "source": [
    "!pip install bs4"
   ]
  },
  {
   "cell_type": "code",
   "execution_count": 9,
   "metadata": {},
   "outputs": [
    {
     "name": "stdout",
     "output_type": "stream",
     "text": [
      "Collecting textblob\n",
      "  Downloading https://files.pythonhosted.org/packages/60/f0/1d9bfcc8ee6b83472ec571406bd0dd51c0e6330ff1a51b2d29861d389e85/textblob-0.15.3-py2.py3-none-any.whl (636kB)\n",
      "Requirement already satisfied: nltk>=3.1 in c:\\users\\user\\anaconda3\\lib\\site-packages (from textblob) (3.2.5)\n",
      "Requirement already satisfied: six in c:\\users\\user\\anaconda3\\lib\\site-packages (from nltk>=3.1->textblob) (1.11.0)\n",
      "Installing collected packages: textblob\n",
      "Successfully installed textblob-0.15.3\n"
     ]
    }
   ],
   "source": [
    "!pip install textblob"
   ]
  },
  {
   "cell_type": "code",
   "execution_count": 10,
   "metadata": {},
   "outputs": [
    {
     "name": "stdout",
     "output_type": "stream",
     "text": [
      "Collecting pytesseract\n",
      "  Downloading https://files.pythonhosted.org/packages/71/5a/d7600cad26276d991feecb27f3627ae2d0ee89aa1e3065fa4f9f1f2defbc/pytesseract-0.2.6.tar.gz (169kB)\n",
      "Requirement already satisfied: Pillow in c:\\users\\user\\anaconda3\\lib\\site-packages (from pytesseract) (5.0.0)\n",
      "Building wheels for collected packages: pytesseract\n",
      "  Building wheel for pytesseract (setup.py): started\n",
      "  Building wheel for pytesseract (setup.py): finished with status 'done'\n",
      "  Stored in directory: C:\\Users\\user\\AppData\\Local\\pip\\Cache\\wheels\\d5\\90\\56\\ab7b652592da86821293f7cadc1c554aa376a0d57ce414d0a0\n",
      "Successfully built pytesseract\n",
      "Installing collected packages: pytesseract\n",
      "Successfully installed pytesseract-0.2.6\n"
     ]
    }
   ],
   "source": [
    "!pip install pytesseract"
   ]
  },
  {
   "cell_type": "code",
   "execution_count": 16,
   "metadata": {},
   "outputs": [
    {
     "name": "stdout",
     "output_type": "stream",
     "text": [
      "Collecting sklearn\n",
      "  Downloading https://files.pythonhosted.org/packages/1e/7a/dbb3be0ce9bd5c8b7e3d87328e79063f8b263b2b1bfa4774cb1147bfcd3f/sklearn-0.0.tar.gz\n",
      "Requirement already satisfied: scikit-learn in c:\\users\\user\\anaconda3\\lib\\site-packages (from sklearn) (0.19.1)\n",
      "Building wheels for collected packages: sklearn\n",
      "  Building wheel for sklearn (setup.py): started\n",
      "  Building wheel for sklearn (setup.py): finished with status 'done'\n",
      "  Stored in directory: C:\\Users\\user\\AppData\\Local\\pip\\Cache\\wheels\\76\\03\\bb\\589d421d27431bcd2c6da284d5f2286c8e3b2ea3cf1594c074\n",
      "Successfully built sklearn\n",
      "Installing collected packages: sklearn\n",
      "Successfully installed sklearn-0.0\n"
     ]
    }
   ],
   "source": [
    "!pip install sklearn"
   ]
  },
  {
   "cell_type": "code",
   "execution_count": 14,
   "metadata": {},
   "outputs": [
    {
     "name": "stdout",
     "output_type": "stream",
     "text": [
      "Collecting setuptools\n",
      "  Downloading https://files.pythonhosted.org/packages/d1/6a/4b2fcefd2ea0868810e92d519dacac1ddc64a2e53ba9e3422c3b62b378a6/setuptools-40.8.0-py2.py3-none-any.whl (575kB)\n",
      "Installing collected packages: setuptools\n",
      "  Found existing installation: setuptools 38.4.0\n",
      "    Uninstalling setuptools-38.4.0:\n",
      "      Successfully uninstalled setuptools-38.4.0\n",
      "Successfully installed setuptools-40.8.0\n"
     ]
    }
   ],
   "source": [
    "!pip install --upgrade setuptools"
   ]
  },
  {
   "cell_type": "code",
   "execution_count": 20,
   "metadata": {},
   "outputs": [
    {
     "name": "stdout",
     "output_type": "stream",
     "text": [
      "Collecting wikipedia\n",
      "  Using cached https://files.pythonhosted.org/packages/67/35/25e68fbc99e672127cc6fbb14b8ec1ba3dfef035bf1e4c90f78f24a80b7d/wikipedia-1.4.0.tar.gz\n",
      "Requirement already satisfied: beautifulsoup4 in c:\\users\\user\\anaconda3\\lib\\site-packages (from wikipedia) (4.6.0)\n",
      "Requirement already satisfied: requests<3.0.0,>=2.0.0 in c:\\users\\user\\anaconda3\\lib\\site-packages (from wikipedia) (2.18.4)\n",
      "Requirement already satisfied: chardet<3.1.0,>=3.0.2 in c:\\users\\user\\anaconda3\\lib\\site-packages (from requests<3.0.0,>=2.0.0->wikipedia) (3.0.4)\n",
      "Requirement already satisfied: idna<2.7,>=2.5 in c:\\users\\user\\anaconda3\\lib\\site-packages (from requests<3.0.0,>=2.0.0->wikipedia) (2.6)\n",
      "Requirement already satisfied: urllib3<1.23,>=1.21.1 in c:\\users\\user\\anaconda3\\lib\\site-packages (from requests<3.0.0,>=2.0.0->wikipedia) (1.22)\n",
      "Requirement already satisfied: certifi>=2017.4.17 in c:\\users\\user\\anaconda3\\lib\\site-packages (from requests<3.0.0,>=2.0.0->wikipedia) (2018.1.18)\n",
      "Building wheels for collected packages: wikipedia\n",
      "  Building wheel for wikipedia (setup.py): started\n",
      "  Building wheel for wikipedia (setup.py): finished with status 'done'\n",
      "  Stored in directory: C:\\Users\\user\\AppData\\Local\\pip\\Cache\\wheels\\87\\2a\\18\\4e471fd96d12114d16fe4a446d00c3b38fb9efcb744bd31f4a\n",
      "Successfully built wikipedia\n",
      "Installing collected packages: wikipedia\n",
      "Successfully installed wikipedia-1.4.0\n"
     ]
    }
   ],
   "source": [
    "!pip install wikipedia"
   ]
  },
  {
   "cell_type": "code",
   "execution_count": 22,
   "metadata": {},
   "outputs": [
    {
     "name": "stdout",
     "output_type": "stream",
     "text": [
      "Collecting wordcloud\n",
      "  Using cached https://files.pythonhosted.org/packages/dd/57/8fd38e31be7951f9164f4cb3a769159a0c2ef4af0f597ddf09a7e736593e/wordcloud-1.5.0-cp36-cp36m-win_amd64.whl\n",
      "Requirement already satisfied: pillow in c:\\users\\user\\anaconda3\\lib\\site-packages (from wordcloud) (5.0.0)\n",
      "Requirement already satisfied: numpy>=1.6.1 in c:\\users\\user\\anaconda3\\lib\\site-packages (from wordcloud) (1.14.0)\n",
      "Installing collected packages: wordcloud\n",
      "Successfully installed wordcloud-1.5.0\n"
     ]
    }
   ],
   "source": [
    "!pip install wordcloud"
   ]
  },
  {
   "cell_type": "code",
   "execution_count": 24,
   "metadata": {},
   "outputs": [
    {
     "name": "stdout",
     "output_type": "stream",
     "text": [
      "Collecting wikipedia-api\n",
      "  Using cached https://files.pythonhosted.org/packages/be/ed/5b070067dd6f2127de4f7196649dd64f71cd905a0826e4b481fe841daee6/Wikipedia-API-0.4.4.tar.gz\n",
      "Requirement already satisfied: requests in c:\\users\\user\\anaconda3\\lib\\site-packages (from wikipedia-api) (2.18.4)\n",
      "Requirement already satisfied: chardet<3.1.0,>=3.0.2 in c:\\users\\user\\anaconda3\\lib\\site-packages (from requests->wikipedia-api) (3.0.4)\n",
      "Requirement already satisfied: idna<2.7,>=2.5 in c:\\users\\user\\anaconda3\\lib\\site-packages (from requests->wikipedia-api) (2.6)\n",
      "Requirement already satisfied: urllib3<1.23,>=1.21.1 in c:\\users\\user\\anaconda3\\lib\\site-packages (from requests->wikipedia-api) (1.22)\n",
      "Requirement already satisfied: certifi>=2017.4.17 in c:\\users\\user\\anaconda3\\lib\\site-packages (from requests->wikipedia-api) (2018.1.18)\n",
      "Building wheels for collected packages: wikipedia-api\n",
      "  Building wheel for wikipedia-api (setup.py): started\n",
      "  Building wheel for wikipedia-api (setup.py): finished with status 'done'\n",
      "  Stored in directory: C:\\Users\\user\\AppData\\Local\\pip\\Cache\\wheels\\4c\\30\\9c\\eea5366306c9a7bfb1094c5b42075b2191253858fbf1482621\n",
      "Successfully built wikipedia-api\n",
      "Installing collected packages: wikipedia-api\n",
      "Successfully installed wikipedia-api-0.4.4\n"
     ]
    }
   ],
   "source": [
    "!pip install wikipedia-api"
   ]
  },
  {
   "cell_type": "code",
   "execution_count": 25,
   "metadata": {},
   "outputs": [
    {
     "name": "stdout",
     "output_type": "stream",
     "text": [
      "Requirement already satisfied: lxml in c:\\users\\user\\anaconda3\\lib\\site-packages (4.1.1)\n"
     ]
    }
   ],
   "source": [
    "!pip install lxml"
   ]
  },
  {
   "cell_type": "code",
   "execution_count": 27,
   "metadata": {},
   "outputs": [
    {
     "name": "stdout",
     "output_type": "stream",
     "text": [
      "Collecting geos\n",
      "  Using cached https://files.pythonhosted.org/packages/9e/12/5b5fa771d309a6aeb284fcd27cf2db93148926c23787e4e9072d90373ed5/geos-0.2.1-py3-none-any.whl\n",
      "Requirement already satisfied: lxml in c:\\users\\user\\anaconda3\\lib\\site-packages (from geos) (4.1.1)\n",
      "Requirement already satisfied: flask in c:\\users\\user\\anaconda3\\lib\\site-packages (from geos) (0.12.2)\n",
      "Requirement already satisfied: Werkzeug>=0.7 in c:\\users\\user\\anaconda3\\lib\\site-packages (from flask->geos) (0.14.1)\n",
      "Requirement already satisfied: Jinja2>=2.4 in c:\\users\\user\\anaconda3\\lib\\site-packages (from flask->geos) (2.10)\n",
      "Requirement already satisfied: itsdangerous>=0.21 in c:\\users\\user\\anaconda3\\lib\\site-packages (from flask->geos) (0.24)\n",
      "Requirement already satisfied: click>=2.0 in c:\\users\\user\\anaconda3\\lib\\site-packages (from flask->geos) (6.7)\n",
      "Requirement already satisfied: MarkupSafe>=0.23 in c:\\users\\user\\anaconda3\\lib\\site-packages (from Jinja2>=2.4->flask->geos) (1.0)\n",
      "Installing collected packages: geos\n",
      "Successfully installed geos-0.2.1\n"
     ]
    }
   ],
   "source": [
    "import sys\n",
    "sys.executable\n",
    "!{sys.executable} -m pip install geos"
   ]
  },
  {
   "cell_type": "code",
   "execution_count": 21,
   "metadata": {},
   "outputs": [
    {
     "name": "stdout",
     "output_type": "stream",
     "text": [
      "Package                            Version  \n",
      "---------------------------------- ---------\n",
      "alabaster                          0.7.10   \n",
      "anaconda-client                    1.6.9    \n",
      "anaconda-navigator                 1.7.0    \n",
      "anaconda-project                   0.8.2    \n",
      "asn1crypto                         0.24.0   \n",
      "astroid                            1.6.1    \n",
      "astropy                            2.0.3    \n",
      "attrs                              17.4.0   \n",
      "Babel                              2.5.3    \n",
      "backports.shutil-get-terminal-size 1.0.0    \n",
      "beautifulsoup4                     4.6.0    \n",
      "bitarray                           0.8.1    \n",
      "bkcharts                           0.2      \n",
      "blaze                              0.11.3   \n",
      "bleach                             2.1.2    \n",
      "bokeh                              0.12.13  \n",
      "boto                               2.48.0   \n",
      "Bottleneck                         1.2.1    \n",
      "bs4                                0.0.1    \n",
      "certifi                            2018.1.18\n",
      "cffi                               1.11.4   \n",
      "chardet                            3.0.4    \n",
      "click                              6.7      \n",
      "cloudpickle                        0.5.2    \n",
      "clyent                             1.2.2    \n",
      "colorama                           0.3.9    \n",
      "comtypes                           1.1.4    \n",
      "conda                              4.4.10   \n",
      "conda-build                        3.4.1    \n",
      "conda-verify                       2.0.0    \n",
      "contextlib2                        0.5.5    \n",
      "cryptography                       2.1.4    \n",
      "cycler                             0.10.0   \n",
      "Cython                             0.27.3   \n",
      "cytoolz                            0.9.0    \n",
      "dask                               0.16.1   \n",
      "datashape                          0.5.4    \n",
      "decorator                          4.2.1    \n",
      "distributed                        1.20.2   \n",
      "docutils                           0.14     \n",
      "entrypoints                        0.2.3    \n",
      "et-xmlfile                         1.0.1    \n",
      "fastcache                          1.0.2    \n",
      "filelock                           2.0.13   \n",
      "Flask                              0.12.2   \n",
      "Flask-Cors                         3.0.3    \n",
      "gevent                             1.2.2    \n",
      "glob2                              0.6      \n",
      "greenlet                           0.4.12   \n",
      "h5py                               2.7.1    \n",
      "heapdict                           1.0.0    \n",
      "html5lib                           1.0.1    \n",
      "idna                               2.6      \n",
      "imageio                            2.2.0    \n",
      "imagesize                          0.7.1    \n",
      "ipython                            6.2.1    \n",
      "ipython-genutils                   0.2.0    \n",
      "ipywidgets                         7.1.1    \n",
      "isort                              4.2.15   \n",
      "itsdangerous                       0.24     \n",
      "jdcal                              1.3      \n",
      "jedi                               0.11.1   \n",
      "Jinja2                             2.10     \n",
      "jsonschema                         2.6.0    \n",
      "jupyter                            1.0.0    \n",
      "jupyter-client                     5.2.2    \n",
      "jupyter-console                    5.2.0    \n",
      "jupyter-core                       4.4.0    \n",
      "jupyterlab                         0.31.4   \n",
      "jupyterlab-launcher                0.10.2   \n",
      "Keras                              2.2.4    \n",
      "Keras-Applications                 1.0.7    \n",
      "Keras-Preprocessing                1.0.9    \n",
      "lazy-object-proxy                  1.3.1    \n",
      "llvmlite                           0.21.0   \n",
      "locket                             0.2.0    \n",
      "lxml                               4.1.1    \n",
      "MarkupSafe                         1.0      \n",
      "matplotlib                         2.1.2    \n",
      "mccabe                             0.6.1    \n",
      "menuinst                           1.4.11   \n",
      "mistune                            0.8.3    \n",
      "mpmath                             1.0.0    \n",
      "msgpack-python                     0.5.1    \n",
      "multipledispatch                   0.4.9    \n",
      "navigator-updater                  0.1.0    \n",
      "nbconvert                          5.3.1    \n",
      "nbformat                           4.4.0    \n",
      "networkx                           2.1      \n",
      "nltk                               3.2.5    \n",
      "nose                               1.3.7    \n",
      "notebook                           5.4.0    \n",
      "numba                              0.36.2   \n",
      "numexpr                            2.6.4    \n",
      "numpy                              1.14.0   \n",
      "numpydoc                           0.7.0    \n",
      "oauthlib                           3.0.1    \n",
      "odo                                0.5.1    \n",
      "olefile                            0.45.1   \n",
      "opencv-contrib-python              4.0.0.21 \n",
      "openpyxl                           2.4.10   \n",
      "packaging                          16.8     \n",
      "pandas                             0.22.0   \n",
      "pandocfilters                      1.4.2    \n",
      "parso                              0.1.1    \n",
      "partd                              0.3.8    \n",
      "path.py                            10.5     \n",
      "pathlib2                           2.3.0    \n",
      "patsy                              0.5.0    \n",
      "pep8                               1.7.1    \n",
      "pickleshare                        0.7.4    \n",
      "Pillow                             5.0.0    \n",
      "pip                                19.0.3   \n",
      "pkginfo                            1.4.1    \n",
      "pluggy                             0.6.0    \n",
      "ply                                3.10     \n",
      "prompt-toolkit                     1.0.15   \n",
      "psutil                             5.4.3    \n",
      "py                                 1.5.2    \n",
      "pycodestyle                        2.3.1    \n",
      "pycosat                            0.6.3    \n",
      "pycparser                          2.18     \n",
      "pycrypto                           2.6.1    \n",
      "pycurl                             7.43.0.1 \n",
      "pyflakes                           1.6.0    \n",
      "Pygments                           2.2.0    \n",
      "pylint                             1.8.2    \n",
      "pyodbc                             4.0.22   \n",
      "pyOpenSSL                          17.5.0   \n",
      "pyparsing                          2.2.0    \n",
      "PySocks                            1.6.7    \n",
      "pytesseract                        0.2.6    \n",
      "pytest                             3.3.2    \n",
      "python-dateutil                    2.6.1    \n",
      "pytz                               2017.3   \n",
      "PyWavelets                         0.5.2    \n",
      "pywin32                            222      \n",
      "pywinpty                           0.5      \n",
      "PyYAML                             3.12     \n",
      "pyzmq                              16.0.3   \n",
      "QtAwesome                          0.4.4    \n",
      "qtconsole                          4.3.1    \n",
      "QtPy                               1.3.1    \n",
      "requests                           2.18.4   \n",
      "requests-oauthlib                  1.2.0    \n",
      "rope                               0.10.7   \n",
      "ruamel-yaml                        0.15.35  \n",
      "scikit-image                       0.13.1   \n",
      "scikit-learn                       0.19.1   \n",
      "scipy                              1.0.0    \n",
      "seaborn                            0.8.1    \n",
      "Send2Trash                         1.4.2    \n",
      "setuptools                         40.8.0   \n",
      "simplegeneric                      0.8.1    \n",
      "singledispatch                     3.4.0.3  \n",
      "six                                1.11.0   \n",
      "sklearn                            0.0      \n",
      "snowballstemmer                    1.2.1    \n",
      "sortedcollections                  0.5.3    \n",
      "sortedcontainers                   1.5.9    \n",
      "Sphinx                             1.6.6    \n",
      "sphinxcontrib-websupport           1.0.1    \n",
      "spyder                             3.2.6    \n",
      "SQLAlchemy                         1.2.1    \n",
      "statsmodels                        0.8.0    \n",
      "sympy                              1.1.1    \n",
      "tables                             3.4.2    \n",
      "tblib                              1.3.2    \n",
      "terminado                          0.8.1    \n",
      "testpath                           0.3.1    \n",
      "textblob                           0.15.3   \n",
      "toolz                              0.9.0    \n",
      "tornado                            4.5.3    \n",
      "traitlets                          4.3.2    \n",
      "tweepy                             3.7.0    \n",
      "typing                             3.6.2    \n",
      "unicodecsv                         0.14.1   \n",
      "urllib3                            1.22     \n",
      "wcwidth                            0.1.7    \n",
      "webencodings                       0.5.1    \n",
      "Werkzeug                           0.14.1   \n",
      "wheel                              0.30.0   \n",
      "widgetsnbextension                 3.1.0    \n",
      "wikipedia                          1.4.0    \n",
      "win-inet-pton                      1.0.1    \n",
      "win-unicode-console                0.5      \n",
      "wincertstore                       0.2      \n",
      "wrapt                              1.10.11  \n",
      "xlrd                               1.1.0    \n",
      "XlsxWriter                         1.0.2    \n",
      "xlwings                            0.11.5   \n",
      "xlwt                               1.3.0    \n",
      "xmlutils                           1.4      \n",
      "zict                               0.1.3    \n"
     ]
    }
   ],
   "source": [
    "!pip list"
   ]
  },
  {
   "cell_type": "code",
   "execution_count": 29,
   "metadata": {},
   "outputs": [],
   "source": [
    "import numpy as np\n",
    "import cv2\n",
    "\n",
    "cap = cv2.VideoCapture(0)\n",
    "\n",
    "while(True):\n",
    "    # Capture frame-by-frame\n",
    "    ret, frame = cap.read()\n",
    "\n",
    "    # Our operations on the frame come here\n",
    "    gray = cv2.cvtColor(frame, cv2.COLOR_BGR2GRAY)\n",
    "   \n",
    "    # Display the resulting frame\n",
    "    cv2.imshow('frame',frame)\n",
    "    cv2.imshow('gray',gray)\n",
    "    if cv2.waitKey(20) & 0xFF == ord('q'):\n",
    "        break\n",
    "\n",
    "# When everything done, release the capture\n",
    "cap.release()\n",
    "cv2.destroyAllWindows()"
   ]
  },
  {
   "cell_type": "code",
   "execution_count": 30,
   "metadata": {},
   "outputs": [
    {
     "name": "stdout",
     "output_type": "stream",
     "text": [
      "Collecting pypdf2\n",
      "  Downloading https://files.pythonhosted.org/packages/b4/01/68fcc0d43daf4c6bdbc6b33cc3f77bda531c86b174cac56ef0ffdb96faab/PyPDF2-1.26.0.tar.gz (77kB)\n",
      "Building wheels for collected packages: pypdf2\n",
      "  Building wheel for pypdf2 (setup.py): started\n",
      "  Building wheel for pypdf2 (setup.py): finished with status 'done'\n",
      "  Stored in directory: C:\\Users\\user\\AppData\\Local\\pip\\Cache\\wheels\\53\\84\\19\\35bc977c8bf5f0c23a8a011aa958acd4da4bbd7a229315c1b7\n",
      "Successfully built pypdf2\n",
      "Installing collected packages: pypdf2\n",
      "Successfully installed pypdf2-1.26.0\n"
     ]
    }
   ],
   "source": [
    "!pip install pypdf2"
   ]
  },
  {
   "cell_type": "code",
   "execution_count": 31,
   "metadata": {},
   "outputs": [
    {
     "name": "stdout",
     "output_type": "stream",
     "text": [
      "Collecting tabula-py\n",
      "  Downloading https://files.pythonhosted.org/packages/1f/f6/20e43951738260cff0005ea175b83ada43e0a74a12e729d0bcabc03b129a/tabula_py-1.3.1-py2.py3-none-any.whl (20.4MB)\n",
      "Requirement already satisfied: numpy in c:\\users\\user\\anaconda3\\lib\\site-packages (from tabula-py) (1.14.0)\n",
      "Requirement already satisfied: urllib3 in c:\\users\\user\\anaconda3\\lib\\site-packages (from tabula-py) (1.22)\n",
      "Requirement already satisfied: pandas in c:\\users\\user\\anaconda3\\lib\\site-packages (from tabula-py) (0.22.0)\n",
      "Collecting distro (from tabula-py)\n",
      "  Downloading https://files.pythonhosted.org/packages/ea/35/82f79b92fa4d937146c660a6482cee4f3dfa1f97ff3d2a6f3ecba33e712e/distro-1.4.0-py2.py3-none-any.whl\n",
      "Requirement already satisfied: python-dateutil>=2 in c:\\users\\user\\anaconda3\\lib\\site-packages (from pandas->tabula-py) (2.6.1)\n",
      "Requirement already satisfied: pytz>=2011k in c:\\users\\user\\anaconda3\\lib\\site-packages (from pandas->tabula-py) (2017.3)\n",
      "Requirement already satisfied: six>=1.5 in c:\\users\\user\\anaconda3\\lib\\site-packages (from python-dateutil>=2->pandas->tabula-py) (1.11.0)\n",
      "Installing collected packages: distro, tabula-py\n",
      "Successfully installed distro-1.4.0 tabula-py-1.3.1\n"
     ]
    }
   ],
   "source": [
    "!pip install tabula-py"
   ]
  },
  {
   "cell_type": "code",
   "execution_count": 33,
   "metadata": {},
   "outputs": [
    {
     "name": "stdout",
     "output_type": "stream",
     "text": [
      "showing info https://raw.githubusercontent.com/nltk/nltk_data/gh-pages/index.xml\n"
     ]
    },
    {
     "data": {
      "text/plain": [
       "True"
      ]
     },
     "execution_count": 33,
     "metadata": {},
     "output_type": "execute_result"
    }
   ],
   "source": [
    "import nltk\n",
    "nltk.download()"
   ]
  },
  {
   "cell_type": "code",
   "execution_count": 34,
   "metadata": {},
   "outputs": [
    {
     "name": "stdout",
     "output_type": "stream",
     "text": [
      "3.6.4\n"
     ]
    }
   ],
   "source": [
    "import platform\n",
    "print(platform.python_version())"
   ]
  },
  {
   "cell_type": "code",
   "execution_count": 35,
   "metadata": {},
   "outputs": [
    {
     "name": "stdout",
     "output_type": "stream",
     "text": [
      "Collecting pyqt5\n",
      "  Downloading https://files.pythonhosted.org/packages/a7/83/9acca4c6cc220f29607d857d87bcc1bd645daa4c5f8cff9958f60c5228a8/PyQt5-5.12-5.12.1_a-cp35.cp36.cp37.cp38-none-win_amd64.whl (49.4MB)\n",
      "Collecting PyQt5_sip<4.20,>=4.19.14 (from pyqt5)\n",
      "  Downloading https://files.pythonhosted.org/packages/95/a3/ca246fb79815622c7f8e2da551b481e141435e03d58f83ed37e9e3c2dceb/PyQt5_sip-4.19.14-cp36-none-win_amd64.whl (51kB)\n",
      "Installing collected packages: PyQt5-sip, pyqt5\n"
     ]
    },
    {
     "name": "stderr",
     "output_type": "stream",
     "text": [
      "Could not install packages due to an EnvironmentError: [WinError 5] Access is denied: 'c:\\\\users\\\\user\\\\anaconda3\\\\Lib\\\\site-packages\\\\PyQt5\\\\Qt.pyd'\n",
      "Consider using the `--user` option or check the permissions.\n",
      "\n"
     ]
    }
   ],
   "source": [
    "!pip install pyqt5"
   ]
  },
  {
   "cell_type": "code",
   "execution_count": 36,
   "metadata": {},
   "outputs": [
    {
     "data": {
      "text/plain": [
       "True"
      ]
     },
     "execution_count": 36,
     "metadata": {},
     "output_type": "execute_result"
    }
   ],
   "source": [
    "import sys\n",
    "sys.maxsize > 2**32"
   ]
  },
  {
   "cell_type": "code",
   "execution_count": 37,
   "metadata": {},
   "outputs": [],
   "source": [
    "import PyQt5"
   ]
  },
  {
   "cell_type": "code",
   "execution_count": 38,
   "metadata": {},
   "outputs": [
    {
     "name": "stdout",
     "output_type": "stream",
     "text": [
      "Collecting lime\n",
      "  Downloading https://files.pythonhosted.org/packages/28/59/8342382ba3301ec02a9d1a30a6d9d9c19484344a9201c5c3d83295332d44/lime-0.1.1.32.tar.gz (266kB)\n",
      "Requirement already satisfied: numpy in c:\\users\\user\\anaconda3\\lib\\site-packages (from lime) (1.14.0)\n",
      "Requirement already satisfied: scipy in c:\\users\\user\\anaconda3\\lib\\site-packages (from lime) (1.0.0)\n",
      "Requirement already satisfied: scikit-learn>=0.18 in c:\\users\\user\\anaconda3\\lib\\site-packages (from lime) (0.19.1)\n",
      "Requirement already satisfied: scikit-image>=0.12 in c:\\users\\user\\anaconda3\\lib\\site-packages (from lime) (0.13.1)\n",
      "Requirement already satisfied: matplotlib>=1.3.1 in c:\\users\\user\\anaconda3\\lib\\site-packages (from scikit-image>=0.12->lime) (2.1.2)\n",
      "Requirement already satisfied: six>=1.7.3 in c:\\users\\user\\anaconda3\\lib\\site-packages (from scikit-image>=0.12->lime) (1.11.0)\n",
      "Requirement already satisfied: networkx>=1.8 in c:\\users\\user\\anaconda3\\lib\\site-packages (from scikit-image>=0.12->lime) (2.1)\n",
      "Requirement already satisfied: pillow>=2.1.0 in c:\\users\\user\\anaconda3\\lib\\site-packages (from scikit-image>=0.12->lime) (5.0.0)\n",
      "Requirement already satisfied: PyWavelets>=0.4.0 in c:\\users\\user\\anaconda3\\lib\\site-packages (from scikit-image>=0.12->lime) (0.5.2)\n",
      "Requirement already satisfied: python-dateutil>=2.1 in c:\\users\\user\\anaconda3\\lib\\site-packages (from matplotlib>=1.3.1->scikit-image>=0.12->lime) (2.6.1)\n",
      "Requirement already satisfied: pytz in c:\\users\\user\\anaconda3\\lib\\site-packages (from matplotlib>=1.3.1->scikit-image>=0.12->lime) (2017.3)\n",
      "Requirement already satisfied: cycler>=0.10 in c:\\users\\user\\anaconda3\\lib\\site-packages (from matplotlib>=1.3.1->scikit-image>=0.12->lime) (0.10.0)\n",
      "Requirement already satisfied: pyparsing!=2.0.4,!=2.1.2,!=2.1.6,>=2.0.1 in c:\\users\\user\\anaconda3\\lib\\site-packages (from matplotlib>=1.3.1->scikit-image>=0.12->lime) (2.2.0)\n",
      "Requirement already satisfied: decorator>=4.1.0 in c:\\users\\user\\anaconda3\\lib\\site-packages (from networkx>=1.8->scikit-image>=0.12->lime) (4.2.1)\n",
      "Building wheels for collected packages: lime\n",
      "  Building wheel for lime (setup.py): started\n",
      "  Building wheel for lime (setup.py): finished with status 'done'\n",
      "  Stored in directory: C:\\Users\\user\\AppData\\Local\\pip\\Cache\\wheels\\48\\13\\7c\\20792e4efe5fd04237c0ac92bc8551acfe36392e09953ac8ea\n",
      "Successfully built lime\n",
      "Installing collected packages: lime\n",
      "Successfully installed lime-0.1.1.32\n"
     ]
    }
   ],
   "source": [
    "!pip install lime"
   ]
  },
  {
   "cell_type": "code",
   "execution_count": 39,
   "metadata": {},
   "outputs": [
    {
     "name": "stdout",
     "output_type": "stream",
     "text": [
      "C:\\Users\\user\\Anaconda3\\python.exe\n",
      "3.6.4 |Anaconda, Inc.| (default, Jan 16 2018, 10:22:32) [MSC v.1900 64 bit (AMD64)]\n",
      "sys.version_info(major=3, minor=6, micro=4, releaselevel='final', serial=0)\n"
     ]
    }
   ],
   "source": [
    "import sys\n",
    "print(sys.executable)\n",
    "print(sys.version)\n",
    "print(sys.version_info)"
   ]
  },
  {
   "cell_type": "code",
   "execution_count": 40,
   "metadata": {},
   "outputs": [
    {
     "name": "stdout",
     "output_type": "stream",
     "text": [
      "Collecting pdf_extractor\n",
      "  Downloading https://files.pythonhosted.org/packages/59/78/8cd4277e62315967a857bd1ac77549957c6d8e4c0d3af52f12f3eac1b845/pdf_extractor-0.1.0.zip\n",
      "Building wheels for collected packages: pdf-extractor\n",
      "  Building wheel for pdf-extractor (setup.py): started\n",
      "  Building wheel for pdf-extractor (setup.py): finished with status 'done'\n",
      "  Stored in directory: C:\\Users\\user\\AppData\\Local\\pip\\Cache\\wheels\\c4\\e1\\b6\\d67ed8aba11fdce86f4197a12a8d651becf78566ff56046d45\n",
      "Successfully built pdf-extractor\n",
      "Installing collected packages: pdf-extractor\n",
      "Successfully installed pdf-extractor-0.1.0\n"
     ]
    }
   ],
   "source": [
    "!pip install pdf_extractor"
   ]
  },
  {
   "cell_type": "code",
   "execution_count": 41,
   "metadata": {},
   "outputs": [
    {
     "name": "stdout",
     "output_type": "stream",
     "text": [
      "Collecting pdfminer3k\n",
      "  Downloading https://files.pythonhosted.org/packages/8c/87/cee0aa24f95c287020df7e3936cb51d32b34b05b430759bac15f89ea5ac2/pdfminer3k-1.3.1.tar.gz (4.1MB)\n",
      "Requirement already satisfied: pytest>=2.0 in c:\\users\\user\\anaconda3\\lib\\site-packages (from pdfminer3k) (3.3.2)\n",
      "Requirement already satisfied: ply>=3.4 in c:\\users\\user\\anaconda3\\lib\\site-packages (from pdfminer3k) (3.10)\n",
      "Requirement already satisfied: py>=1.5.0 in c:\\users\\user\\anaconda3\\lib\\site-packages (from pytest>=2.0->pdfminer3k) (1.5.2)\n",
      "Requirement already satisfied: six>=1.10.0 in c:\\users\\user\\anaconda3\\lib\\site-packages (from pytest>=2.0->pdfminer3k) (1.11.0)\n",
      "Requirement already satisfied: setuptools in c:\\users\\user\\anaconda3\\lib\\site-packages (from pytest>=2.0->pdfminer3k) (40.8.0)\n",
      "Requirement already satisfied: attrs>=17.2.0 in c:\\users\\user\\anaconda3\\lib\\site-packages (from pytest>=2.0->pdfminer3k) (17.4.0)\n",
      "Requirement already satisfied: pluggy<0.7,>=0.5 in c:\\users\\user\\anaconda3\\lib\\site-packages (from pytest>=2.0->pdfminer3k) (0.6.0)\n",
      "Requirement already satisfied: colorama in c:\\users\\user\\anaconda3\\lib\\site-packages (from pytest>=2.0->pdfminer3k) (0.3.9)\n",
      "Building wheels for collected packages: pdfminer3k\n",
      "  Building wheel for pdfminer3k (setup.py): started\n",
      "  Building wheel for pdfminer3k (setup.py): finished with status 'done'\n",
      "  Stored in directory: C:\\Users\\user\\AppData\\Local\\pip\\Cache\\wheels\\ca\\4f\\a7\\cb601b4fb257d2321ac668b7c6e269176780bd0283eda855d2\n",
      "Successfully built pdfminer3k\n",
      "Installing collected packages: pdfminer3k\n",
      "Successfully installed pdfminer3k-1.3.1\n"
     ]
    }
   ],
   "source": [
    "!pip install pdfminer3k"
   ]
  },
  {
   "cell_type": "code",
   "execution_count": 42,
   "metadata": {},
   "outputs": [],
   "source": [
    "#OpenCV program to detect face in real time\n",
    "#import libraries of python OpenCV \n",
    "#where its functionality resides\n",
    "\n",
    "import cv2 \n",
    "# load the required trained XML classifiers\n",
    "# https://github.com/Itseez/opencv/blob/master/\n",
    "# data/haarcascades/haarcascade_frontalface_default.xml\n",
    "# Trained XML classifiers describes some features of some\n",
    "# object we want to detect a cascade function is trained\n",
    "# from a lot of positive(faces) and negative(non-faces)\n",
    "# images.\n",
    "\n",
    "face_cascade = cv2.CascadeClassifier('C:\\\\Users\\\\user\\\\Desktop\\\\haarcascade_frontalface_default.xml')\n",
    "\n",
    "  \n",
    "\n",
    "# capture frames from a camera\n",
    "\n",
    "cap = cv2.VideoCapture(0)\n",
    "\n",
    "  \n",
    "\n",
    "# loop runs if capturing has been initialized.\n",
    "\n",
    "while 1: \n",
    "\n",
    "  \n",
    "\n",
    "    # reads frames from a camera\n",
    "\n",
    "    ret, img = cap.read() \n",
    "\n",
    "  \n",
    "\n",
    "    # convert to gray scale of each frames\n",
    "\n",
    "    gray = cv2.cvtColor(img, cv2.COLOR_BGR2GRAY)\n",
    "\n",
    "  \n",
    "\n",
    "    # Detects faces of different sizes in the input image\n",
    "\n",
    "    faces = face_cascade.detectMultiScale(gray, 1.3, 5)\n",
    "\n",
    "  \n",
    "\n",
    "    for (x,y,w,h) in faces:\n",
    "\n",
    "        # To draw a rectangle in a face \n",
    "\n",
    "        cv2.rectangle(img,(x,y),(x+w,y+h),(255,255,0),2) \n",
    "\n",
    "        roi_gray = gray[y:y+h, x:x+w]\n",
    "\n",
    "        roi_color = img[y:y+h, x:x+w]\n",
    "\n",
    " \n",
    "\n",
    " \n",
    "\n",
    "    # Display an image in a window\n",
    "\n",
    "    cv2.imshow('img',img)\n",
    "\n",
    "  \n",
    "\n",
    "    # Wait for Esc key to stop\n",
    "\n",
    "    k = cv2.waitKey(30) & 0xff\n",
    "\n",
    "    if k == 27:\n",
    "\n",
    "        break\n",
    "\n",
    "       \n",
    "\n",
    "#Close the window\n",
    "\n",
    "cap.release()\n",
    "\n",
    "  \n",
    "\n",
    "# De-allocate any associated memory usage\n",
    "\n",
    "cv2.destroyAllWindows() "
   ]
  },
  {
   "cell_type": "code",
   "execution_count": null,
   "metadata": {},
   "outputs": [],
   "source": []
  }
 ],
 "metadata": {
  "kernelspec": {
   "display_name": "Python 3",
   "language": "python",
   "name": "python3"
  },
  "language_info": {
   "codemirror_mode": {
    "name": "ipython",
    "version": 3
   },
   "file_extension": ".py",
   "mimetype": "text/x-python",
   "name": "python",
   "nbconvert_exporter": "python",
   "pygments_lexer": "ipython3",
   "version": "3.6.4"
  }
 },
 "nbformat": 4,
 "nbformat_minor": 2
}

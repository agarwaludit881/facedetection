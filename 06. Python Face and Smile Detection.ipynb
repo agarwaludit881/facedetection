{
 "cells": [
  {
   "cell_type": "code",
   "execution_count": 4,
   "metadata": {},
   "outputs": [
    {
     "name": "stdout",
     "output_type": "stream",
     "text": [
      "4.161\n",
      "4.376\n",
      "4.502\n",
      "4.068\n",
      "4.027\n",
      "4.191\n",
      "4.072\n",
      "4.109\n",
      "4.032\n",
      "4.321\n",
      "4.027\n",
      "4.092\n",
      "4.0\n",
      "4.0\n",
      "4.488\n",
      "4.209\n",
      "4.438\n",
      "4.172\n",
      "4.926\n",
      "4.087\n",
      "4.299\n"
     ]
    }
   ],
   "source": [
    "import cv2\n",
    "\n",
    "face_cascade = cv2.CascadeClassifier('C:\\\\Users\\\\user\\\\Desktop\\\\haarcascade_frontalface_default.xml')\n",
    "smile_cascade = cv2.CascadeClassifier('C:\\\\Users\\\\user\\\\Desktop\\\\haarcascade_smile.xml')\n",
    "\n",
    "cap = cv2.VideoCapture(0)\n",
    "font=cv2.FONT_HERSHEY_COMPLEX_SMALL\n",
    "\n",
    "g=0\n",
    "while True:\n",
    "    ret, img = cap.read()\n",
    "    gray = cv2.cvtColor(img, cv2.COLOR_BGR2GRAY)\n",
    "    faces, faceRejectLevels, faceLevelWeights= face_cascade.detectMultiScale3(gray, 1.3, 5, outputRejectLevels=True)\n",
    "    f=0\n",
    "    for(x,y,w,h) in faces:\n",
    "        if (round(faceLevelWeights[f][0],3)) <= 5: continue\n",
    "        #print(round(faceLevelWeights[f][0],3))         #To Display Face Confidence\n",
    "        cv2.rectangle(img, (x,y), (x+w, y+h), (255,0,0), 2)\n",
    "        cv2.putText(img, str(round(faceLevelWeights[f][0],3)), (x,y),font, 1, (255,255,255), 2)\n",
    "        roi_gray = gray[y:y+h, x:x+w]\n",
    "        roi_color = img[y:y+h, x:x+w]\n",
    "        eyes, rejectLevels, levelWeights = smile_cascade.detectMultiScale3(roi_gray, outputRejectLevels=True)\n",
    "        i=0\n",
    "        for(ex,ey,ew,eh) in eyes:\n",
    "            if(round(levelWeights[i][0],3)>=4.0):\n",
    "                print(round(levelWeights[i][0],3))       #To Display Smile Confidence\n",
    "                g+=1\n",
    "                cv2.rectangle(roi_color, (ex,ey), (ex+ew,ey+eh), (0,255,0), 2)\n",
    "                cv2.putText(roi_color,str(round(levelWeights[i][0],3)),(ex,ey), font,1,(255,255,255),2)\n",
    "            i+=1\n",
    "        cv2.putText(roi_color, \"Smile: {}\".format(g), (10, 30), cv2.FONT_HERSHEY_SIMPLEX, 0.7, (0, 0, 255), 2)    \n",
    "    f+=1\n",
    "    cv2.imshow('img',img)\n",
    "    k = cv2.waitKey(30) & 0xff\n",
    "    if k== ord(\"q\"):\n",
    "        break\n",
    "\n",
    "cap.release()\n",
    "cv2.destroyAllWindows()"
   ]
  },
  {
   "cell_type": "code",
   "execution_count": null,
   "metadata": {},
   "outputs": [],
   "source": []
  }
 ],
 "metadata": {
  "kernelspec": {
   "display_name": "Python 3",
   "language": "python",
   "name": "python3"
  },
  "language_info": {
   "codemirror_mode": {
    "name": "ipython",
    "version": 3
   },
   "file_extension": ".py",
   "mimetype": "text/x-python",
   "name": "python",
   "nbconvert_exporter": "python",
   "pygments_lexer": "ipython3",
   "version": "3.6.4"
  }
 },
 "nbformat": 4,
 "nbformat_minor": 2
}
